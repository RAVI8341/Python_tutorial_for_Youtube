{
 "cells": [
  {
   "cell_type": "markdown",
   "id": "f4366a90",
   "metadata": {},
   "source": [
    "# Tutorial 01- Basics of Python\n"
   ]
  },
  {
   "cell_type": "code",
   "execution_count": 2,
   "id": "951ca3f0",
   "metadata": {},
   "outputs": [
    {
     "name": "stdout",
     "output_type": "stream",
     "text": [
      "Welcome to python\n",
      "hello world\n"
     ]
    }
   ],
   "source": [
    " print(\"Welcome to python\")\n",
    "print('hello world')"
   ]
  },
  {
   "cell_type": "code",
   "execution_count": 4,
   "id": "57a1a606",
   "metadata": {},
   "outputs": [
    {
     "name": "stdout",
     "output_type": "stream",
     "text": [
      "hello\n"
     ]
    }
   ],
   "source": [
    "# single line comment\n",
    "\"\"\"\n",
    "Welcome to my channel\n",
    "hello python\n",
    "\"\"\"\n",
    "print(\"hello\")"
   ]
  },
  {
   "cell_type": "code",
   "execution_count": 6,
   "id": "61a022b0",
   "metadata": {},
   "outputs": [
    {
     "data": {
      "text/plain": [
       "str"
      ]
     },
     "execution_count": 6,
     "metadata": {},
     "output_type": "execute_result"
    }
   ],
   "source": [
    "# variable declaration\n",
    "\n",
    "a = \"ravi\"\n",
    "\n",
    "type(a)"
   ]
  },
  {
   "cell_type": "code",
   "execution_count": 8,
   "id": "ef82ebea",
   "metadata": {},
   "outputs": [],
   "source": [
    "a1 = 10"
   ]
  },
  {
   "cell_type": "code",
   "execution_count": 9,
   "id": "3bcc1468",
   "metadata": {},
   "outputs": [],
   "source": [
    "first_name = \"ravi\"\n",
    "last_name = \"kushwaha\""
   ]
  },
  {
   "cell_type": "code",
   "execution_count": 11,
   "id": "8c6700eb",
   "metadata": {},
   "outputs": [
    {
     "name": "stdout",
     "output_type": "stream",
     "text": [
      "this is first name:  ravi\n"
     ]
    }
   ],
   "source": [
    "print(\"this is first name: \",first_name)"
   ]
  },
  {
   "cell_type": "code",
   "execution_count": 12,
   "id": "01c9b4f9",
   "metadata": {},
   "outputs": [
    {
     "data": {
      "text/plain": [
       "int"
      ]
     },
     "execution_count": 12,
     "metadata": {},
     "output_type": "execute_result"
    }
   ],
   "source": [
    "#integers\n",
    "\n",
    "a=10\n",
    "type(a)"
   ]
  },
  {
   "cell_type": "code",
   "execution_count": 13,
   "id": "5298089d",
   "metadata": {},
   "outputs": [
    {
     "data": {
      "text/plain": [
       "20"
      ]
     },
     "execution_count": 13,
     "metadata": {},
     "output_type": "execute_result"
    }
   ],
   "source": [
    "a+10"
   ]
  },
  {
   "cell_type": "code",
   "execution_count": 14,
   "id": "885bec77",
   "metadata": {},
   "outputs": [
    {
     "data": {
      "text/plain": [
       "100"
      ]
     },
     "execution_count": 14,
     "metadata": {},
     "output_type": "execute_result"
    }
   ],
   "source": [
    "a*10"
   ]
  },
  {
   "cell_type": "code",
   "execution_count": 15,
   "id": "bb9082d1",
   "metadata": {},
   "outputs": [
    {
     "data": {
      "text/plain": [
       "1.0"
      ]
     },
     "execution_count": 15,
     "metadata": {},
     "output_type": "execute_result"
    }
   ],
   "source": [
    "a/10"
   ]
  },
  {
   "cell_type": "code",
   "execution_count": 16,
   "id": "362ba451",
   "metadata": {},
   "outputs": [
    {
     "name": "stdout",
     "output_type": "stream",
     "text": [
      "30\n"
     ]
    }
   ],
   "source": [
    "a= 10\n",
    "b = 20\n",
    "print(a+b)"
   ]
  },
  {
   "cell_type": "code",
   "execution_count": 17,
   "id": "9fc7d0da",
   "metadata": {},
   "outputs": [
    {
     "name": "stdout",
     "output_type": "stream",
     "text": [
      "-10\n"
     ]
    }
   ],
   "source": [
    "print(a-b)"
   ]
  },
  {
   "cell_type": "code",
   "execution_count": 18,
   "id": "32027e26",
   "metadata": {},
   "outputs": [
    {
     "data": {
      "text/plain": [
       "float"
      ]
     },
     "execution_count": 18,
     "metadata": {},
     "output_type": "execute_result"
    }
   ],
   "source": [
    "#floating\n",
    "a = 10.5\n",
    "type(a)"
   ]
  },
  {
   "cell_type": "code",
   "execution_count": 19,
   "id": "6bf56eeb",
   "metadata": {},
   "outputs": [
    {
     "name": "stdout",
     "output_type": "stream",
     "text": [
      "10\n"
     ]
    }
   ],
   "source": [
    "print(int(a))"
   ]
  },
  {
   "cell_type": "code",
   "execution_count": 20,
   "id": "671898e9",
   "metadata": {},
   "outputs": [],
   "source": [
    "#boolean\n",
    "\n",
    "a1=True\n",
    "b1=False\n"
   ]
  },
  {
   "cell_type": "code",
   "execution_count": 21,
   "id": "ba723b7c",
   "metadata": {},
   "outputs": [
    {
     "data": {
      "text/plain": [
       "bool"
      ]
     },
     "execution_count": 21,
     "metadata": {},
     "output_type": "execute_result"
    }
   ],
   "source": [
    "type(a1)"
   ]
  },
  {
   "cell_type": "code",
   "execution_count": 22,
   "id": "c627f110",
   "metadata": {},
   "outputs": [
    {
     "data": {
      "text/plain": [
       "True"
      ]
     },
     "execution_count": 22,
     "metadata": {},
     "output_type": "execute_result"
    }
   ],
   "source": [
    "a1 | b1"
   ]
  },
  {
   "cell_type": "code",
   "execution_count": 23,
   "id": "2d36dcd2",
   "metadata": {},
   "outputs": [],
   "source": [
    "#string"
   ]
  },
  {
   "cell_type": "code",
   "execution_count": 24,
   "id": "7d664fd3",
   "metadata": {},
   "outputs": [],
   "source": [
    "name = \"ravi\""
   ]
  },
  {
   "cell_type": "code",
   "execution_count": 25,
   "id": "4faf9d90",
   "metadata": {},
   "outputs": [
    {
     "data": {
      "text/plain": [
       "str"
      ]
     },
     "execution_count": 25,
     "metadata": {},
     "output_type": "execute_result"
    }
   ],
   "source": [
    "type(name)"
   ]
  },
  {
   "cell_type": "code",
   "execution_count": 27,
   "id": "41a2a7bd",
   "metadata": {},
   "outputs": [
    {
     "data": {
      "text/plain": [
       "'ravi1'"
      ]
     },
     "execution_count": 27,
     "metadata": {},
     "output_type": "execute_result"
    }
   ],
   "source": [
    "name + str(1)"
   ]
  },
  {
   "cell_type": "code",
   "execution_count": 28,
   "id": "7c800e81",
   "metadata": {},
   "outputs": [
    {
     "data": {
      "text/plain": [
       "'ravikush'"
      ]
     },
     "execution_count": 28,
     "metadata": {},
     "output_type": "execute_result"
    }
   ],
   "source": [
    "name + \"kush\""
   ]
  },
  {
   "cell_type": "code",
   "execution_count": 29,
   "id": "bb9ac2b1",
   "metadata": {},
   "outputs": [
    {
     "name": "stdout",
     "output_type": "stream",
     "text": [
      "The value of a is;  100\n"
     ]
    }
   ],
   "source": [
    "a = 100\n",
    "print(\"The value of a is; \" , a)"
   ]
  },
  {
   "cell_type": "code",
   "execution_count": 31,
   "id": "165576bf",
   "metadata": {},
   "outputs": [
    {
     "name": "stdout",
     "output_type": "stream",
     "text": [
      "The first name is ravi and last name is kumar\n"
     ]
    }
   ],
   "source": [
    "first_name = \"ravi\"\n",
    "last_name ='kumar'\n",
    "print('The first name is {a} and last name is {b}'.format(a = first_name,b=last_name))"
   ]
  },
  {
   "cell_type": "code",
   "execution_count": 36,
   "id": "e89c788d",
   "metadata": {},
   "outputs": [
    {
     "name": "stdout",
     "output_type": "stream",
     "text": [
      "Enter first number20\n",
      "Enter second number 40\n",
      "800\n"
     ]
    }
   ],
   "source": [
    "num1 = int(input(\"Enter first number\"))\n",
    "num2 = int(input(\"Enter second number \"))\n",
    "print(num1*num2)"
   ]
  },
  {
   "cell_type": "code",
   "execution_count": null,
   "id": "43b07da7",
   "metadata": {},
   "outputs": [],
   "source": []
  }
 ],
 "metadata": {
  "kernelspec": {
   "display_name": "Python 3",
   "language": "python",
   "name": "python3"
  },
  "language_info": {
   "codemirror_mode": {
    "name": "ipython",
    "version": 3
   },
   "file_extension": ".py",
   "mimetype": "text/x-python",
   "name": "python",
   "nbconvert_exporter": "python",
   "pygments_lexer": "ipython3",
   "version": "3.8.8"
  }
 },
 "nbformat": 4,
 "nbformat_minor": 5
}
